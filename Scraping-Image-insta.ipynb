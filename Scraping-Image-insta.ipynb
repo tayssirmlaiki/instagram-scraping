{
 "cells": [
  {
   "cell_type": "code",
   "execution_count": 1,
   "metadata": {},
   "outputs": [
    {
     "name": "stdout",
     "output_type": "stream",
     "text": [
      "Collecting package metadata (current_repodata.json): ...working... done\n",
      "Note: you may need to restart the kernel to use updated packages.\n",
      "\n",
      "Solving environment: ...working... done\n",
      "\n",
      "## Package Plan ##\n",
      "\n",
      "  environment location: C:\\Users\\asus\\anaconda3\n",
      "\n",
      "  added / updated specs:\n",
      "    - selenium\n",
      "\n",
      "\n",
      "The following packages will be downloaded:\n",
      "\n",
      "    package                    |            build\n",
      "    ---------------------------|-----------------\n",
      "    conda-4.11.0               |   py38haa95532_0        14.4 MB\n",
      "    ------------------------------------------------------------\n",
      "                                           Total:        14.4 MB\n",
      "\n",
      "The following packages will be UPDATED:\n",
      "\n",
      "  conda                               4.10.3-py38haa95532_0 --> 4.11.0-py38haa95532_0\n",
      "\n",
      "\n",
      "\n",
      "Downloading and Extracting Packages\n",
      "\n",
      "conda-4.11.0         | 14.4 MB   |            |   0% \n",
      "conda-4.11.0         | 14.4 MB   |            |   0% \n",
      "conda-4.11.0         | 14.4 MB   |            |   0% \n",
      "conda-4.11.0         | 14.4 MB   |            |   1% \n",
      "conda-4.11.0         | 14.4 MB   | 1          |   1% \n",
      "conda-4.11.0         | 14.4 MB   | 1          |   2% \n",
      "conda-4.11.0         | 14.4 MB   | 2          |   2% \n",
      "conda-4.11.0         | 14.4 MB   | 3          |   3% \n",
      "conda-4.11.0         | 14.4 MB   | 3          |   4% \n",
      "conda-4.11.0         | 14.4 MB   | 4          |   4% \n",
      "conda-4.11.0         | 14.4 MB   | 5          |   5% \n",
      "conda-4.11.0         | 14.4 MB   | 5          |   6% \n",
      "conda-4.11.0         | 14.4 MB   | 6          |   6% \n",
      "conda-4.11.0         | 14.4 MB   | 7          |   7% \n",
      "conda-4.11.0         | 14.4 MB   | 7          |   8% \n",
      "conda-4.11.0         | 14.4 MB   | 8          |   8% \n",
      "conda-4.11.0         | 14.4 MB   | 8          |   9% \n",
      "conda-4.11.0         | 14.4 MB   | 9          |  10% \n",
      "conda-4.11.0         | 14.4 MB   | #          |  10% \n",
      "conda-4.11.0         | 14.4 MB   | #          |  11% \n",
      "conda-4.11.0         | 14.4 MB   | #1         |  12% \n",
      "conda-4.11.0         | 14.4 MB   | #2         |  12% \n",
      "conda-4.11.0         | 14.4 MB   | #2         |  13% \n",
      "conda-4.11.0         | 14.4 MB   | #3         |  14% \n",
      "conda-4.11.0         | 14.4 MB   | #4         |  14% \n",
      "conda-4.11.0         | 14.4 MB   | #4         |  15% \n",
      "conda-4.11.0         | 14.4 MB   | #5         |  15% \n",
      "conda-4.11.0         | 14.4 MB   | #6         |  16% \n",
      "conda-4.11.0         | 14.4 MB   | #6         |  17% \n",
      "conda-4.11.0         | 14.4 MB   | #7         |  17% \n",
      "conda-4.11.0         | 14.4 MB   | #8         |  18% \n",
      "conda-4.11.0         | 14.4 MB   | #8         |  19% \n",
      "conda-4.11.0         | 14.4 MB   | #9         |  19% \n",
      "conda-4.11.0         | 14.4 MB   | ##         |  20% \n"
     ]
    }
   ],
   "source": [
    "conda install selenium"
   ]
  },
  {
   "cell_type": "code",
   "execution_count": 16,
   "metadata": {},
   "outputs": [],
   "source": [
    "#imports here\n",
    "from selenium import webdriver\n",
    "import selenium.webdriver as webdriver\n",
    "from selenium.webdriver.common.keys import Keys\n",
    "from selenium.webdriver.support import expected_conditions as EC\n",
    "from selenium.webdriver.common.by import By\n",
    "from selenium.webdriver.support.ui import WebDriverWait\n",
    "from selenium.webdriver.support.wait import WebDriverWait\n",
    "import time\n",
    "from selenium.common.exceptions import TimeoutException\n",
    "import urllib\n",
    "import requests\n",
    "from bs4 import BeautifulSoup\n",
    "import pandas as pd\n",
    "from webdriver_manager.chrome import ChromeDriverManager"
   ]
  },
  {
   "cell_type": "code",
   "execution_count": 31,
   "metadata": {},
   "outputs": [
    {
     "name": "stderr",
     "output_type": "stream",
     "text": [
      "\n",
      "\n",
      "====== WebDriver manager ======\n",
      "Current google-chrome version is 98.0.4758\n",
      "Get LATEST chromedriver version for 98.0.4758 google-chrome\n",
      "Driver [C:\\Users\\asus\\.wdm\\drivers\\chromedriver\\win32\\98.0.4758.80\\chromedriver.exe] found in cache\n"
     ]
    }
   ],
   "source": [
    "#Install Driver\n",
    "#driver = webdriver.Chrome('C:/Users/webscraping/chromedriver.exe')\n",
    "#driver=webdriver.Chrome('C:/Users/webscraping/chromedriver.exe',options=options)\n",
    "driver = webdriver.Chrome(ChromeDriverManager().install())\n",
    "driver.get('https://www.instagram.com/')"
   ]
  },
  {
   "cell_type": "code",
   "execution_count": 32,
   "metadata": {},
   "outputs": [],
   "source": [
    "#target username\n",
    "username = WebDriverWait(driver, 10).until(EC.element_to_be_clickable((By.CSS_SELECTOR, \"input[name='username']\")))\n",
    "password = WebDriverWait(driver, 10).until(EC.element_to_be_clickable((By.CSS_SELECTOR, \"input[name='password']\")))\n",
    "\n",
    "#enter username and password\n",
    "username.clear()\n",
    "username.send_keys(\"webscrap01\")\n",
    "password.clear()\n",
    "password.send_keys(\"123456789web\")"
   ]
  },
  {
   "cell_type": "code",
   "execution_count": 33,
   "metadata": {},
   "outputs": [],
   "source": [
    "#target the login button and click it\n",
    "button = WebDriverWait(driver, 2).until(EC.element_to_be_clickable((By.CSS_SELECTOR, \"button[type='submit']\"))).click()"
   ]
  },
  {
   "cell_type": "code",
   "execution_count": 34,
   "metadata": {},
   "outputs": [],
   "source": [
    "\n",
    "alert = WebDriverWait(driver, 15).until(EC.element_to_be_clickable((By.XPATH, '//button[contains(text(), \"Plus tard\")]'))).click()\n",
    "#alert2 = WebDriverWait(driver, 15).until(EC.element_to_be_clickable((By.XPATH, '//button[contains(text(), \"Plus tard\")]'))).click()"
   ]
  },
  {
   "cell_type": "code",
   "execution_count": 35,
   "metadata": {},
   "outputs": [],
   "source": [
    "#target the search input field\n",
    "searchbox = WebDriverWait(driver, 10).until(EC.element_to_be_clickable((By.XPATH, \"//input[@placeholder='Rechercher']\")))\n",
    "searchbox.clear()\n",
    "\n",
    "#search for the hashtag cat\n",
    "keyword = \"#Jacques Chirac \"\n",
    "searchbox.send_keys(keyword)"
   ]
  },
  {
   "cell_type": "code",
   "execution_count": 39,
   "metadata": {},
   "outputs": [],
   "source": [
    "searchbox.send_keys(Keys.ENTER)"
   ]
  },
  {
   "cell_type": "code",
   "execution_count": 40,
   "metadata": {},
   "outputs": [],
   "source": [
    "#scroll down 2 times\n",
    "#increase the range to sroll more\n",
    "n_scrolls = 2\n",
    "for j in range(0, n_scrolls):\n",
    "    driver.execute_script(\"window.scrollTo(0, document.body.scrollHeight);\")\n",
    "    time.sleep(5)"
   ]
  },
  {
   "cell_type": "code",
   "execution_count": 41,
   "metadata": {},
   "outputs": [
    {
     "name": "stdout",
     "output_type": "stream",
     "text": [
      "Found 33 links to images\n"
     ]
    },
    {
     "data": {
      "text/plain": [
       "['https://www.instagram.com/p/CFfDI5YHfkT/',\n",
       " 'https://www.instagram.com/p/B_HiwH3A-sY/',\n",
       " 'https://www.instagram.com/p/B8EGHOdofkl/',\n",
       " 'https://www.instagram.com/p/CFmVGtLBlBn/',\n",
       " 'https://www.instagram.com/p/B_ottAugd0r/']"
      ]
     },
     "execution_count": 41,
     "metadata": {},
     "output_type": "execute_result"
    }
   ],
   "source": [
    "#target all the link elements on the page\n",
    "anchors = driver.find_elements_by_tag_name('a')\n",
    "anchors = [a.get_attribute('href') for a in anchors]\n",
    "#narrow down all links to image links only\n",
    "anchors = [a for a in anchors if str(a).startswith(\"https://www.instagram.com/p/\")]\n",
    "\n",
    "print('Found ' + str(len(anchors)) + ' links to images')\n",
    "anchors[:5]"
   ]
  },
  {
   "cell_type": "code",
   "execution_count": 42,
   "metadata": {},
   "outputs": [
    {
     "data": {
      "text/plain": [
       "['https://instagram.ftun15-1.fna.fbcdn.net/v/t51.2885-19/s150x150/116346689_288947812435554_2847233788775363862_n.jpg?_nc_ht=instagram.ftun15-1.fna.fbcdn.net&_nc_cat=106&_nc_ohc=uuBgkWvHdI4AX_VHeBg&tn=KyFzzVFajy_hlWOA&edm=AABBvjUBAAAA&ccb=7-4&oh=00_AT_ZAnw04nYg7D_sbFr8hTXzRb-etNlq1qXyVY9XBwHOkg&oe=620A712A&_nc_sid=83d603',\n",
       " 'https://instagram.ftun15-1.fna.fbcdn.net/v/t51.2885-19/s150x150/123136844_794379137791877_7855330376971409744_n.jpg?_nc_ht=instagram.ftun15-1.fna.fbcdn.net&_nc_cat=105&_nc_ohc=vl38strraOQAX9qY8a3&edm=AABBvjUBAAAA&ccb=7-4&oh=00_AT918NhMaifGzrKsul1qzVm4IXglShbiZVNGTqRCItt42w&oe=620A4149&_nc_sid=83d603',\n",
       " 'https://instagram.ftun15-1.fna.fbcdn.net/v/t51.2885-19/s150x150/45488505_356392214936251_9054104592580608_n.jpg?_nc_ht=instagram.ftun15-1.fna.fbcdn.net&_nc_cat=107&_nc_ohc=DVrn3vU4Wm0AX-dey6l&edm=AABBvjUBAAAA&ccb=7-4&oh=00_AT8H004b9VUy9KzpDhvvtSK3JYCFjKw5mh2VoGPbcloXkg&oe=620BF13D&_nc_sid=83d603',\n",
       " 'https://instagram.ftun15-1.fna.fbcdn.net/v/t51.2885-19/s150x150/15535132_838837442921978_3551568844302581760_a.jpg?_nc_ht=instagram.ftun15-1.fna.fbcdn.net&_nc_cat=102&_nc_ohc=xnVSHpIJsYEAX9yh7-O&tn=KyFzzVFajy_hlWOA&edm=AABBvjUBAAAA&ccb=7-4&oh=00_AT9lQ9Bhv6UjqJc3kMn77Pf_GmxX9-EIcYYVORospHdWoA&oe=620A6FF7&_nc_sid=83d603',\n",
       " 'https://instagram.ftun15-1.fna.fbcdn.net/v/t51.2885-19/s150x150/123136844_794379137791877_7855330376971409744_n.jpg?_nc_ht=instagram.ftun15-1.fna.fbcdn.net&_nc_cat=105&_nc_ohc=vl38strraOQAX9qY8a3&edm=AABBvjUBAAAA&ccb=7-4&oh=00_AT918NhMaifGzrKsul1qzVm4IXglShbiZVNGTqRCItt42w&oe=620A4149&_nc_sid=83d603',\n",
       " 'https://instagram.ftun15-1.fna.fbcdn.net/v/t51.2885-19/s150x150/12543088_1688561578092019_2054411144_a.jpg?_nc_ht=instagram.ftun15-1.fna.fbcdn.net&_nc_cat=107&_nc_ohc=AQAVXlGcNgwAX9Fh48e&edm=AABBvjUBAAAA&ccb=7-4&oh=00_AT_sHYyt5ocZVt3TGuS5cZx7ijvsZc4ytF0YOHmRJ-fGkQ&oe=620BDFEC&_nc_sid=83d603',\n",
       " 'https://instagram.ftun15-1.fna.fbcdn.net/v/t51.2885-19/s150x150/122280883_680755516149525_6701922622146697597_n.jpg?_nc_ht=instagram.ftun15-1.fna.fbcdn.net&_nc_cat=109&_nc_ohc=EQK02l-w8tUAX-E5jlN&tn=KyFzzVFajy_hlWOA&edm=AABBvjUBAAAA&ccb=7-4&oh=00_AT_3FfD_Ds4C4m95352EtjqYbCAAfcm3SUKFp_bSNF-Xjg&oe=620C2434&_nc_sid=83d603',\n",
       " 'https://instagram.ftun15-1.fna.fbcdn.net/v/t51.2885-19/s150x150/92578598_2537296613253833_8841448280580685824_n.jpg?_nc_ht=instagram.ftun15-1.fna.fbcdn.net&_nc_cat=105&_nc_ohc=W7bXh-Pk_h4AX9IBkpy&edm=AABBvjUBAAAA&ccb=7-4&oh=00_AT84sY_tyF-J0Ca1zBTVTu5AX41Uq_WzYTbB4laGl97ucw&oe=620B4914&_nc_sid=83d603',\n",
       " 'https://instagram.ftun15-1.fna.fbcdn.net/v/t51.2885-19/s150x150/272724644_348873303512563_6822698159699289895_n.jpg?_nc_ht=instagram.ftun15-1.fna.fbcdn.net&_nc_cat=107&_nc_ohc=pzmMDWcdtQYAX-OC85A&edm=AABBvjUBAAAA&ccb=7-4&oh=00_AT_aOBsf3EkVVLQ49tHUSWYz7EnkIxYzLYdHiq0bUhvFLQ&oe=620C16C9&_nc_sid=83d603',\n",
       " 'https://instagram.ftun15-1.fna.fbcdn.net/v/t51.2885-19/s150x150/97049405_575731563075985_5630473675745525760_n.jpg?_nc_ht=instagram.ftun15-1.fna.fbcdn.net&_nc_cat=101&_nc_ohc=4crV2h4IVe8AX8yIPCL&edm=AABBvjUBAAAA&ccb=7-4&oh=00_AT9dc2CeqBkVGWGMqreYdV_eJXtR-ZjTMcD_fTvXgiDdFg&oe=620BC169&_nc_sid=83d603',\n",
       " 'https://instagram.ftun15-1.fna.fbcdn.net/v/t51.2885-19/s150x150/273502706_616730859422475_4485709318295183593_n.jpg?_nc_ht=instagram.ftun15-1.fna.fbcdn.net&_nc_cat=103&_nc_ohc=9822dcWMKl4AX9zQQs0&tn=KyFzzVFajy_hlWOA&edm=AABBvjUBAAAA&ccb=7-4&oh=00_AT8MTEtTcWts3a3JN34iWRlqeG_h6HLsqUQmSdCbUTZZVA&oe=620C04F3&_nc_sid=83d603',\n",
       " 'https://instagram.ftun15-1.fna.fbcdn.net/v/t51.2885-19/s150x150/271498044_1416463025474201_6278682843779884670_n.jpg?_nc_ht=instagram.ftun15-1.fna.fbcdn.net&_nc_cat=105&_nc_ohc=xlK4VOHO2MkAX97KBy6&tn=KyFzzVFajy_hlWOA&edm=AABBvjUBAAAA&ccb=7-4&oh=00_AT_rhXEbo-gckeUJDqH1HieUKFwJrKa9_zW4AKBtoY-h9g&oe=620BE819&_nc_sid=83d603',\n",
       " 'https://instagram.ftun15-1.fna.fbcdn.net/v/t51.2885-19/s150x150/191124865_191125219546843_5007559756090683413_n.jpg?_nc_ht=instagram.ftun15-1.fna.fbcdn.net&_nc_cat=107&_nc_ohc=zBupDA3aebMAX8nY1Le&edm=AABBvjUBAAAA&ccb=7-4&oh=00_AT-Y-ZriM8HznwZbheyMr6S3hyQ2142ZnaX_DrGeAvsP2w&oe=620B9CB4&_nc_sid=83d603',\n",
       " 'https://instagram.ftun15-1.fna.fbcdn.net/v/t51.2885-19/s150x150/29087615_856944704485013_7546368795904835584_n.jpg?_nc_ht=instagram.ftun15-1.fna.fbcdn.net&_nc_cat=105&_nc_ohc=bUrmWStArF0AX-or6-r&edm=AABBvjUBAAAA&ccb=7-4&oh=00_AT-lG9bGjTyIGxGcM1Ub1m9gyoDNkymI8xBnXaF7BmGXKQ&oe=620B4D0D&_nc_sid=83d603',\n",
       " 'https://instagram.ftun15-1.fna.fbcdn.net/v/t51.2885-19/s150x150/271629293_290893423062316_662899246710938863_n.jpg?_nc_ht=instagram.ftun15-1.fna.fbcdn.net&_nc_cat=104&_nc_ohc=25kpoAillOkAX88v-dc&edm=AABBvjUBAAAA&ccb=7-4&oh=00_AT_wI2kMKAHFPMg4LBbDxgyd2j2JiHQa4PxJcsqJuzIxvw&oe=620BB620&_nc_sid=83d603',\n",
       " 'https://instagram.ftun15-1.fna.fbcdn.net/v/t51.2885-19/s150x150/271815928_1086477722135878_8309953287178324581_n.jpg?_nc_ht=instagram.ftun15-1.fna.fbcdn.net&_nc_cat=110&_nc_ohc=HlCRczGrRN4AX_1TkK_&tn=KyFzzVFajy_hlWOA&edm=AABBvjUBAAAA&ccb=7-4&oh=00_AT9pC_99pNV3Tctr1NA9iaE6EJ68To_fYSrvCk9cBtPLUQ&oe=620B46D9&_nc_sid=83d603',\n",
       " 'https://instagram.ftun15-1.fna.fbcdn.net/v/t51.2885-19/s150x150/269124665_634296237611961_6153768919930487948_n.jpg?_nc_ht=instagram.ftun15-1.fna.fbcdn.net&_nc_cat=109&_nc_ohc=wSGzAjLW4LUAX8J3MSC&edm=AABBvjUBAAAA&ccb=7-4&oh=00_AT-n5Ex5skFla19uanphivIdiXOQPtLe-TXuSxp6XldvvA&oe=620A6CFA&_nc_sid=83d603',\n",
       " 'https://instagram.ftun15-1.fna.fbcdn.net/v/t51.2885-19/s150x150/46338095_2014724978618318_8119997811845496832_n.jpg?_nc_ht=instagram.ftun15-1.fna.fbcdn.net&_nc_cat=102&_nc_ohc=QlDqAnITa4kAX-Kwzae&edm=AABBvjUBAAAA&ccb=7-4&oh=00_AT-30_Rix25Td6gW4KpflqRljs1BT2AKk3CQuek6wdqegw&oe=620ABE8E&_nc_sid=83d603',\n",
       " 'https://instagram.ftun15-1.fna.fbcdn.net/v/t51.2885-19/s150x150/169819663_157526319506872_6416924737809698397_n.jpg?_nc_ht=instagram.ftun15-1.fna.fbcdn.net&_nc_cat=104&_nc_ohc=VOaO-iIC8xkAX9HRsaG&edm=AABBvjUBAAAA&ccb=7-4&oh=00_AT9OPNwAW0-OLcVMdxBRlZsNgITyplAsbE4zf-kRsTLHMQ&oe=620AA22A&_nc_sid=83d603',\n",
       " 'https://instagram.ftun15-1.fna.fbcdn.net/v/t51.2885-19/s150x150/28429030_1681590895232537_9049068949584478208_n.jpg?_nc_ht=instagram.ftun15-1.fna.fbcdn.net&_nc_cat=105&_nc_ohc=gPsTl-QoPssAX_zXOEu&edm=AABBvjUBAAAA&ccb=7-4&oh=00_AT-RFkf6TVv3QAEQVQbVzQAynnQN6X1JjEFKvLb9j5DLtw&oe=620B0D23&_nc_sid=83d603',\n",
       " 'https://instagram.ftun15-1.fna.fbcdn.net/v/t51.2885-19/11917849_1669759066594079_1094548174_a.jpg?_nc_ht=instagram.ftun15-1.fna.fbcdn.net&_nc_cat=111&_nc_ohc=MyHAufvtHmkAX_e8XDf&edm=AABBvjUBAAAA&ccb=7-4&oh=00_AT-pl8s72gqKFlTJEabXaunxpBzSMXF3BGvssvpzBiQbGg&oe=620A54BC&_nc_sid=83d603',\n",
       " 'https://instagram.ftun15-1.fna.fbcdn.net/v/t51.2885-19/s150x150/108966369_3268746743169217_3058286872315697495_n.jpg?_nc_ht=instagram.ftun15-1.fna.fbcdn.net&_nc_cat=101&_nc_ohc=3e6q5RxhcO8AX9gqQyU&edm=AABBvjUBAAAA&ccb=7-4&oh=00_AT9zIVsk0ijzqFYo0_OMjCMTMfwOBQIVX-DfNjMID1aq6g&oe=620A954F&_nc_sid=83d603',\n",
       " 'https://instagram.ftun15-1.fna.fbcdn.net/v/t51.2885-19/272330593_117587677303908_8588901989579543158_n.jpg?stp=dst-jpg_s150x150&_nc_ht=instagram.ftun15-1.fna.fbcdn.net&_nc_cat=100&_nc_ohc=9G7l0CbVpoIAX_nBIty&edm=AABBvjUBAAAA&ccb=7-4&oh=00_AT9EoDETVbDc3EXUISpCaSJ9nP9h5G4EXaaSrlsLoyc3qQ&oe=620C16FB&_nc_sid=83d603',\n",
       " 'https://instagram.ftun15-1.fna.fbcdn.net/v/t51.2885-19/s150x150/254939013_429456328551649_5184605577569833335_n.jpg?_nc_ht=instagram.ftun15-1.fna.fbcdn.net&_nc_cat=101&_nc_ohc=e64UA42z6wIAX9RM8oP&edm=AABBvjUBAAAA&ccb=7-4&oh=00_AT8Bgs_FnOecqEXeMrfFEofDeI3Yd8PaOauGx-zHXs4WzQ&oe=620A4CE7&_nc_sid=83d603',\n",
       " 'https://instagram.ftun15-1.fna.fbcdn.net/v/t51.2885-19/s150x150/132263369_397982364651934_7883398094815788065_n.jpg?_nc_ht=instagram.ftun15-1.fna.fbcdn.net&_nc_cat=110&_nc_ohc=dHH19Xwso_YAX8yyRXv&tn=KyFzzVFajy_hlWOA&edm=AABBvjUBAAAA&ccb=7-4&oh=00_AT9FxNzOhEXiTJudS9Y0hJq445wKaUPoPuZUoNpi3Q0XWQ&oe=620BFA56&_nc_sid=83d603',\n",
       " 'https://instagram.ftun15-1.fna.fbcdn.net/v/t51.2885-19/s150x150/131900318_317399112753676_3401452180066619317_n.jpg?_nc_ht=instagram.ftun15-1.fna.fbcdn.net&_nc_cat=104&_nc_ohc=uqOJaLYa46sAX9dylmU&edm=AABBvjUBAAAA&ccb=7-4&oh=00_AT_HJ3YZDuNNOlQImPG6j4Gs3H-NwR66RAyIfwp80xgqWQ&oe=620AA965&_nc_sid=83d603',\n",
       " 'https://instagram.ftun15-1.fna.fbcdn.net/v/t51.2885-19/s150x150/117660040_161230215586477_4257095217293904144_n.jpg?_nc_ht=instagram.ftun15-1.fna.fbcdn.net&_nc_cat=101&_nc_ohc=Vyw_WNeO-58AX-MHERl&edm=AABBvjUBAAAA&ccb=7-4&oh=00_AT_QZVZoTyl4jirTiNbt3bQaBvC7ONMyBuYWfA804vUvnw&oe=620C1A98&_nc_sid=83d603',\n",
       " 'https://instagram.ftun15-1.fna.fbcdn.net/v/t51.2885-19/s150x150/240820169_922515702006877_4751286917368330718_n.jpg?_nc_ht=instagram.ftun15-1.fna.fbcdn.net&_nc_cat=101&_nc_ohc=wCCN2MKCg3UAX-FUre4&edm=AABBvjUBAAAA&ccb=7-4&oh=00_AT8rtJ0GfEl2_D8BBHsBu-PlV5_f-pBuPyb2ISSEkVxagA&oe=620A8985&_nc_sid=83d603',\n",
       " 'https://instagram.ftun15-1.fna.fbcdn.net/v/t51.2885-19/s150x150/125877577_149774396879602_3243668758612046874_n.jpg?_nc_ht=instagram.ftun15-1.fna.fbcdn.net&_nc_cat=110&_nc_ohc=2nTHNi_T0uoAX_7W-eQ&edm=AABBvjUBAAAA&ccb=7-4&oh=00_AT-IWPAGCjdW5l_s3orgAGOhFXXyny9wVWmvoNXMzFioPg&oe=620A3B3C&_nc_sid=83d603',\n",
       " 'https://instagram.ftun15-1.fna.fbcdn.net/v/t51.2885-19/s150x150/271667887_978010342922904_1154544404757132272_n.jpg?_nc_ht=instagram.ftun15-1.fna.fbcdn.net&_nc_cat=100&_nc_ohc=0VkwKiL0kiIAX95Fs6T&edm=AABBvjUBAAAA&ccb=7-4&oh=00_AT-R50QOLG0o_fghXx8Edqn81EvkWET0RTD7q-gpb3ou4g&oe=620B12FC&_nc_sid=83d603',\n",
       " 'https://instagram.ftun15-1.fna.fbcdn.net/v/t51.2885-19/s150x150/132263369_397982364651934_7883398094815788065_n.jpg?_nc_ht=instagram.ftun15-1.fna.fbcdn.net&_nc_cat=110&_nc_ohc=dHH19Xwso_YAX8yyRXv&tn=KyFzzVFajy_hlWOA&edm=AABBvjUBAAAA&ccb=7-4&oh=00_AT9FxNzOhEXiTJudS9Y0hJq445wKaUPoPuZUoNpi3Q0XWQ&oe=620BFA56&_nc_sid=83d603',\n",
       " 'https://instagram.ftun15-1.fna.fbcdn.net/v/t51.2885-19/s150x150/29087615_856944704485013_7546368795904835584_n.jpg?_nc_ht=instagram.ftun15-1.fna.fbcdn.net&_nc_cat=105&_nc_ohc=bUrmWStArF0AX-or6-r&edm=AABBvjUBAAAA&ccb=7-4&oh=00_AT-lG9bGjTyIGxGcM1Ub1m9gyoDNkymI8xBnXaF7BmGXKQ&oe=620B4D0D&_nc_sid=83d603',\n",
       " 'https://instagram.ftun15-1.fna.fbcdn.net/v/t51.2885-19/s150x150/120373982_2846127972321705_5583100676689321108_n.jpg?_nc_ht=instagram.ftun15-1.fna.fbcdn.net&_nc_cat=109&_nc_ohc=a_E1FMwsUxYAX_1jsS0&edm=AABBvjUBAAAA&ccb=7-4&oh=00_AT-tZDFhqfWQ9Z8TUtEoDC5hIlxheJW8yyuUeiYjj6mQYQ&oe=620BE1AD&_nc_sid=83d603']"
      ]
     },
     "execution_count": 42,
     "metadata": {},
     "output_type": "execute_result"
    }
   ],
   "source": [
    "images = []\n",
    "\n",
    "#follow each image link and extract only image at index=1\n",
    "for a in anchors:\n",
    "    driver.get(a)\n",
    "    time.sleep(5)\n",
    "    img = driver.find_elements_by_tag_name('img')\n",
    "    img = [i.get_attribute('src') for i in img]\n",
    "    images.append(img[1])\n",
    "    \n",
    "images"
   ]
  },
  {
   "cell_type": "code",
   "execution_count": 47,
   "metadata": {},
   "outputs": [
    {
     "name": "stdout",
     "output_type": "stream",
     "text": [
      "Collecting wget\n",
      "  Downloading wget-3.2.zip (10 kB)\n",
      "Building wheels for collected packages: wget\n",
      "  Building wheel for wget (setup.py): started\n",
      "  Building wheel for wget (setup.py): finished with status 'done'\n",
      "  Created wheel for wget: filename=wget-3.2-py3-none-any.whl size=9680 sha256=c2a4ca6fc488b07e2f92299097aa297a0be6d4f4eb560e8767f27095c3a3bec9\n",
      "  Stored in directory: c:\\users\\asus\\appdata\\local\\pip\\cache\\wheels\\bd\\a8\\c3\\3cf2c14a1837a4e04bd98631724e81f33f462d86a1d895fae0\n",
      "Successfully built wget\n",
      "Installing collected packages: wget\n",
      "Successfully installed wget-3.2\n",
      "Note: you may need to restart the kernel to use updated packages.\n"
     ]
    }
   ],
   "source": [
    "pip install wget"
   ]
  },
  {
   "cell_type": "code",
   "execution_count": 48,
   "metadata": {},
   "outputs": [
    {
     "data": {
      "text/plain": [
       "'C:\\\\Users\\\\asus\\\\Desktop\\\\webScraping insta\\\\Jacques Chirac s'"
      ]
     },
     "execution_count": 48,
     "metadata": {},
     "output_type": "execute_result"
    }
   ],
   "source": [
    "import os\n",
    "import wget\n",
    "\n",
    "path = os.getcwd()\n",
    "path = os.path.join(path, keyword[1:] + \"s\")\n",
    "\n",
    "#create the directory\n",
    "os.mkdir(path)\n",
    "\n",
    "path"
   ]
  },
  {
   "cell_type": "code",
   "execution_count": 49,
   "metadata": {},
   "outputs": [],
   "source": [
    "#download images\n",
    "counter = 0\n",
    "for image in images:\n",
    "    save_as = os.path.join(path, keyword[1:] + str(counter) + '.jpg')\n",
    "    wget.download(image, save_as)\n",
    "    counter += 1\n"
   ]
  },
  {
   "cell_type": "code",
   "execution_count": null,
   "metadata": {},
   "outputs": [],
   "source": []
  },
  {
   "cell_type": "code",
   "execution_count": null,
   "metadata": {},
   "outputs": [],
   "source": []
  }
 ],
 "metadata": {
  "kernelspec": {
   "display_name": "Python 3",
   "language": "python",
   "name": "python3"
  },
  "language_info": {
   "codemirror_mode": {
    "name": "ipython",
    "version": 3
   },
   "file_extension": ".py",
   "mimetype": "text/x-python",
   "name": "python",
   "nbconvert_exporter": "python",
   "pygments_lexer": "ipython3",
   "version": "3.8.8"
  }
 },
 "nbformat": 4,
 "nbformat_minor": 2
}
