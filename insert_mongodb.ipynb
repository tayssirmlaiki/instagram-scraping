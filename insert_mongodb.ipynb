{
 "cells": [
  {
   "cell_type": "code",
   "execution_count": 2,
   "id": "f0dcaa09",
   "metadata": {},
   "outputs": [
    {
     "name": "stdout",
     "output_type": "stream",
     "text": [
      "Collecting package metadata (current_repodata.json): ...working... done\n",
      "Solving environment: ...working... done\n",
      "\n",
      "# All requested packages already installed.\n",
      "\n",
      "\n",
      "Note: you may need to restart the kernel to use updated packages.\n"
     ]
    }
   ],
   "source": [
    "conda install pymongo"
   ]
  },
  {
   "cell_type": "code",
   "execution_count": 3,
   "id": "8705caa9",
   "metadata": {},
   "outputs": [],
   "source": [
    "import pymongo\n",
    "import pandas as pd\n",
    "import json"
   ]
  },
  {
   "cell_type": "code",
   "execution_count": 4,
   "id": "8a6b4a99",
   "metadata": {},
   "outputs": [],
   "source": [
    "client = pymongo.MongoClient(\"mongodb://localhost:27017\")"
   ]
  },
  {
   "cell_type": "code",
   "execution_count": 5,
   "id": "93f9a877",
   "metadata": {},
   "outputs": [],
   "source": [
    "df = pd.read_csv(\"my_file.csv\")"
   ]
  },
  {
   "cell_type": "code",
   "execution_count": 6,
   "id": "8c77af70",
   "metadata": {},
   "outputs": [
    {
     "data": {
      "text/html": [
       "<div>\n",
       "<style scoped>\n",
       "    .dataframe tbody tr th:only-of-type {\n",
       "        vertical-align: middle;\n",
       "    }\n",
       "\n",
       "    .dataframe tbody tr th {\n",
       "        vertical-align: top;\n",
       "    }\n",
       "\n",
       "    .dataframe thead th {\n",
       "        text-align: right;\n",
       "    }\n",
       "</style>\n",
       "<table border=\"1\" class=\"dataframe\">\n",
       "  <thead>\n",
       "    <tr style=\"text-align: right;\">\n",
       "      <th></th>\n",
       "      <th>Unnamed: 0</th>\n",
       "      <th>Name</th>\n",
       "      <th>Comment</th>\n",
       "    </tr>\n",
       "  </thead>\n",
       "  <tbody>\n",
       "    <tr>\n",
       "      <th>0</th>\n",
       "      <td>0</td>\n",
       "      <td>toumi_lina</td>\n",
       "      <td>['❤️']</td>\n",
       "    </tr>\n",
       "    <tr>\n",
       "      <th>1</th>\n",
       "      <td>1</td>\n",
       "      <td>nawfeldjobi</td>\n",
       "      <td>['❤️❤️❤️']</td>\n",
       "    </tr>\n",
       "    <tr>\n",
       "      <th>2</th>\n",
       "      <td>2</td>\n",
       "      <td>taslim_rfs</td>\n",
       "      <td>['❤️❤️❤️❤️❤️']</td>\n",
       "    </tr>\n",
       "    <tr>\n",
       "      <th>3</th>\n",
       "      <td>3</td>\n",
       "      <td>angelique_mlk</td>\n",
       "      <td>['😍']</td>\n",
       "    </tr>\n",
       "    <tr>\n",
       "      <th>4</th>\n",
       "      <td>4</td>\n",
       "      <td>sinyorina_16_</td>\n",
       "      <td>['😍😍']</td>\n",
       "    </tr>\n",
       "  </tbody>\n",
       "</table>\n",
       "</div>"
      ],
      "text/plain": [
       "   Unnamed: 0           Name         Comment\n",
       "0           0     toumi_lina          ['❤️']\n",
       "1           1    nawfeldjobi      ['❤️❤️❤️']\n",
       "2           2     taslim_rfs  ['❤️❤️❤️❤️❤️']\n",
       "3           3  angelique_mlk           ['😍']\n",
       "4           4  sinyorina_16_          ['😍😍']"
      ]
     },
     "execution_count": 6,
     "metadata": {},
     "output_type": "execute_result"
    }
   ],
   "source": [
    "df.head()"
   ]
  },
  {
   "cell_type": "code",
   "execution_count": 7,
   "id": "529d1cb5",
   "metadata": {},
   "outputs": [
    {
     "data": {
      "text/html": [
       "<div>\n",
       "<style scoped>\n",
       "    .dataframe tbody tr th:only-of-type {\n",
       "        vertical-align: middle;\n",
       "    }\n",
       "\n",
       "    .dataframe tbody tr th {\n",
       "        vertical-align: top;\n",
       "    }\n",
       "\n",
       "    .dataframe thead th {\n",
       "        text-align: right;\n",
       "    }\n",
       "</style>\n",
       "<table border=\"1\" class=\"dataframe\">\n",
       "  <thead>\n",
       "    <tr style=\"text-align: right;\">\n",
       "      <th></th>\n",
       "      <th>Unnamed: 0</th>\n",
       "      <th>Name</th>\n",
       "      <th>Comment</th>\n",
       "    </tr>\n",
       "  </thead>\n",
       "  <tbody>\n",
       "    <tr>\n",
       "      <th>8</th>\n",
       "      <td>8</td>\n",
       "      <td>poet_husseinalali</td>\n",
       "      <td>['💞']</td>\n",
       "    </tr>\n",
       "    <tr>\n",
       "      <th>9</th>\n",
       "      <td>9</td>\n",
       "      <td>boukhichanour</td>\n",
       "      <td>['🌼🏵🌸🌹❤❤ love']</td>\n",
       "    </tr>\n",
       "    <tr>\n",
       "      <th>10</th>\n",
       "      <td>10</td>\n",
       "      <td>hideyahammami</td>\n",
       "      <td>['😍😍']</td>\n",
       "    </tr>\n",
       "    <tr>\n",
       "      <th>11</th>\n",
       "      <td>11</td>\n",
       "      <td>chayma_chaymouta1234</td>\n",
       "      <td>['❤️']</td>\n",
       "    </tr>\n",
       "    <tr>\n",
       "      <th>12</th>\n",
       "      <td>12</td>\n",
       "      <td>rourouete</td>\n",
       "      <td>['🔥🔥🔥']</td>\n",
       "    </tr>\n",
       "  </tbody>\n",
       "</table>\n",
       "</div>"
      ],
      "text/plain": [
       "    Unnamed: 0                  Name          Comment\n",
       "8            8     poet_husseinalali            ['💞']\n",
       "9            9         boukhichanour  ['🌼🏵🌸🌹❤❤ love']\n",
       "10          10         hideyahammami           ['😍😍']\n",
       "11          11  chayma_chaymouta1234           ['❤️']\n",
       "12          12             rourouete          ['🔥🔥🔥']"
      ]
     },
     "execution_count": 7,
     "metadata": {},
     "output_type": "execute_result"
    }
   ],
   "source": [
    "df.tail()"
   ]
  },
  {
   "cell_type": "code",
   "execution_count": 8,
   "id": "dcece518",
   "metadata": {},
   "outputs": [
    {
     "data": {
      "text/plain": [
       "(13, 3)"
      ]
     },
     "execution_count": 8,
     "metadata": {},
     "output_type": "execute_result"
    }
   ],
   "source": [
    "df.shape"
   ]
  },
  {
   "cell_type": "code",
   "execution_count": 9,
   "id": "fa9fc888",
   "metadata": {},
   "outputs": [],
   "source": [
    "data = df.to_dict(orient = \"records\")"
   ]
  },
  {
   "cell_type": "code",
   "execution_count": 10,
   "id": "8630f5a8",
   "metadata": {},
   "outputs": [
    {
     "data": {
      "text/plain": [
       "[{'Unnamed: 0': 0, 'Name': 'toumi_lina', 'Comment': \"['❤️']\"},\n",
       " {'Unnamed: 0': 1, 'Name': 'nawfeldjobi', 'Comment': \"['❤️❤️❤️']\"},\n",
       " {'Unnamed: 0': 2, 'Name': 'taslim_rfs', 'Comment': \"['❤️❤️❤️❤️❤️']\"},\n",
       " {'Unnamed: 0': 3, 'Name': 'angelique_mlk', 'Comment': \"['😍']\"},\n",
       " {'Unnamed: 0': 4, 'Name': 'sinyorina_16_', 'Comment': \"['😍😍']\"},\n",
       " {'Unnamed: 0': 5, 'Name': 'sanaothmeni', 'Comment': \"['🔥🔥🔥🔥']\"},\n",
       " {'Unnamed: 0': 6, 'Name': 'besbesali1', 'Comment': \"['😍😍']\"},\n",
       " {'Unnamed: 0': 7, 'Name': 'rapproflowfloo', 'Comment': \"['🔥🔥🔥🔥🔥🌹']\"},\n",
       " {'Unnamed: 0': 8, 'Name': 'poet_husseinalali', 'Comment': \"['💞']\"},\n",
       " {'Unnamed: 0': 9, 'Name': 'boukhichanour', 'Comment': \"['🌼🏵🌸🌹❤❤ love']\"},\n",
       " {'Unnamed: 0': 10, 'Name': 'hideyahammami', 'Comment': \"['😍😍']\"},\n",
       " {'Unnamed: 0': 11, 'Name': 'chayma_chaymouta1234', 'Comment': \"['❤️']\"},\n",
       " {'Unnamed: 0': 12, 'Name': 'rourouete', 'Comment': \"['🔥🔥🔥']\"}]"
      ]
     },
     "execution_count": 10,
     "metadata": {},
     "output_type": "execute_result"
    }
   ],
   "source": [
    "data"
   ]
  },
  {
   "cell_type": "code",
   "execution_count": 12,
   "id": "3611ba7a",
   "metadata": {},
   "outputs": [],
   "source": [
    "db = client[\"WebScraping\"]"
   ]
  },
  {
   "cell_type": "code",
   "execution_count": 13,
   "id": "4cbc07e7",
   "metadata": {},
   "outputs": [
    {
     "name": "stdout",
     "output_type": "stream",
     "text": [
      "Database(MongoClient(host=['localhost:27017'], document_class=dict, tz_aware=False, connect=True), 'WebScraping')\n"
     ]
    }
   ],
   "source": [
    "print(db)"
   ]
  },
  {
   "cell_type": "code",
   "execution_count": 14,
   "id": "65f250ea",
   "metadata": {},
   "outputs": [
    {
     "data": {
      "text/plain": [
       "<pymongo.results.InsertManyResult at 0x1ed44933c80>"
      ]
     },
     "execution_count": 14,
     "metadata": {},
     "output_type": "execute_result"
    }
   ],
   "source": [
    "db.instagram.insert_many(data)"
   ]
  },
  {
   "cell_type": "code",
   "execution_count": null,
   "id": "3cce4bf9",
   "metadata": {},
   "outputs": [],
   "source": []
  }
 ],
 "metadata": {
  "kernelspec": {
   "display_name": "Python 3",
   "language": "python",
   "name": "python3"
  },
  "language_info": {
   "codemirror_mode": {
    "name": "ipython",
    "version": 3
   },
   "file_extension": ".py",
   "mimetype": "text/x-python",
   "name": "python",
   "nbconvert_exporter": "python",
   "pygments_lexer": "ipython3",
   "version": "3.8.8"
  }
 },
 "nbformat": 4,
 "nbformat_minor": 5
}
